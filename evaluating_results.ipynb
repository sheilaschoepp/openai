{
 "cells": [
  {
   "cell_type": "code",
   "execution_count": 1,
   "id": "ultimate-australian",
   "metadata": {},
   "outputs": [],
   "source": [
    "import seaborn as sns\n",
    "from matplotlib import pyplot as plt\n",
    "import pandas as pd\n",
    "import numpy as np\n",
    "import os"
   ]
  },
  {
   "cell_type": "code",
   "execution_count": 2,
   "id": "industrial-holocaust",
   "metadata": {},
   "outputs": [],
   "source": [
    "PATH = '/home/mehran/Desktop/AntAnalyze'\n",
    "experiments_list = os.listdir(PATH)\n",
    "experiment_seed = {}\n",
    "for e in experiments_list:\n",
    "    seed_list = os.listdir(os.path.join(PATH, e))\n",
    "    experiment_seed[e] = seed_list"
   ]
  },
  {
   "cell_type": "code",
   "execution_count": 3,
   "id": "cellular-beatles",
   "metadata": {},
   "outputs": [],
   "source": [
    "for exp in experiments_list:\n",
    "    num_seeds = len(experiment_seed[exp])\n",
    "    path  = os.path.join(PATH, exp, 'seed0', 'csv', 'eval_data.csv')\n",
    "    data_temp = pd.read_csv(path)\n",
    "    num_samples = len(data_temp) - 1\n",
    "    average_returns = np.zeros([num_seeds, num_samples])\n",
    "    index = 0\n",
    "    for seed in experiment_seed[exp]:\n",
    "        path  = os.path.join(PATH, exp, seed, 'csv', 'eval_data.csv')\n",
    "        data_temp = pd.read_csv(path)\n",
    "        average_returns[index] = np.array(data_temp['average_return'])[:-1]\n",
    "        index += 1"
   ]
  },
  {
   "cell_type": "code",
   "execution_count": 4,
   "id": "relative-armenia",
   "metadata": {},
   "outputs": [],
   "source": [
    "average = np.mean(average_returns, axis=0)\n",
    "standard_error = np.std(average_returns, axis=0)/np.sqrt(average_returns.shape[0])"
   ]
  },
  {
   "cell_type": "code",
   "execution_count": 12,
   "id": "499967a0",
   "metadata": {},
   "outputs": [
    {
     "data": {
      "text/plain": [
       "35191.1481167"
      ]
     },
     "execution_count": 12,
     "metadata": {},
     "output_type": "execute_result"
    }
   ],
   "source": [
    "percentage_consider = 0.2\n",
    "average[:int(average.shape[0] * percentage_consider)].sum()"
   ]
  },
  {
   "cell_type": "code",
   "execution_count": null,
   "id": "satisfactory-contemporary",
   "metadata": {},
   "outputs": [],
   "source": [
    "x = np.array(data['num_time_steps'])[:-1]\n",
    "plt.figure(figsize=(12, 5))\n",
    "plt.plot(x, average, 'b')\n",
    "plt.fill_between(x, average-standard_error, average+standard_error, color='r', alpha=0.2)\n",
    "sns.set_style(\"dark\")\n",
    "# sns.set_style(\"darkgrid\", {\"axes.facecolor\": \".9\"})\n",
    "# sns.set_style(\"whitegrid\")\n",
    "sns.set_theme()\n",
    "plt.savefig('test.jpg', dpi=300)\n",
    "plt.show()"
   ]
  },
  {
   "cell_type": "code",
   "execution_count": null,
   "id": "solid-pipeline",
   "metadata": {},
   "outputs": [],
   "source": [
    "df = pd.DataFrame({'time steps': np.array(data['num_time_steps'])[:-1], 'average': average}).plot"
   ]
  },
  {
   "cell_type": "code",
   "execution_count": null,
   "id": "romantic-glossary",
   "metadata": {},
   "outputs": [],
   "source": [
    "pd.DataFrame({'time steps': np.array(data['num_time_steps'])[:-1], 'average': average}).plot()"
   ]
  },
  {
   "cell_type": "code",
   "execution_count": 14,
   "id": "scheduled-mathematics",
   "metadata": {},
   "outputs": [],
   "source": [
    "d = {'a': 3, 'b': 2, 'c': 1}"
   ]
  },
  {
   "cell_type": "code",
   "execution_count": null,
   "id": "maritime-progress",
   "metadata": {},
   "outputs": [],
   "source": [
    "l = ['a', 'b', 'c']\n",
    "for c in l:\n",
    "    if d[c] == 1:\n",
    "        l.remove(c)"
   ]
  },
  {
   "cell_type": "code",
   "execution_count": 20,
   "id": "confirmed-jersey",
   "metadata": {},
   "outputs": [],
   "source": [
    "d = {k: v for k, v in sorted(d.items(), key=lambda item: item[1])}"
   ]
  },
  {
   "cell_type": "code",
   "execution_count": 19,
   "id": "artificial-breed",
   "metadata": {},
   "outputs": [
    {
     "name": "stdout",
     "output_type": "stream",
     "text": [
      "a\n",
      "b\n",
      "c\n"
     ]
    }
   ],
   "source": [
    "for c in reversed(d.keys()):\n",
    "    print"
   ]
  },
  {
   "cell_type": "code",
   "execution_count": null,
   "id": "8af5276d",
   "metadata": {},
   "outputs": [],
   "source": []
  }
 ],
 "metadata": {
  "kernelspec": {
   "display_name": "Python 3",
   "language": "python",
   "name": "python3"
  },
  "language_info": {
   "codemirror_mode": {
    "name": "ipython",
    "version": 3
   },
   "file_extension": ".py",
   "mimetype": "text/x-python",
   "name": "python",
   "nbconvert_exporter": "python",
   "pygments_lexer": "ipython3",
   "version": "3.8.5"
  }
 },
 "nbformat": 4,
 "nbformat_minor": 5
}
